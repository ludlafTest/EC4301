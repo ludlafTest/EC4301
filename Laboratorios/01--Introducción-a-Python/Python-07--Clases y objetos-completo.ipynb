{
 "cells": [
  {
   "cell_type": "markdown",
   "metadata": {},
   "source": [
    "<img src=\"figures/escuela-de-economia.png\" width=\"260\" height=\"60\">\n",
    "<center>\n",
    "    <b>EC4301 MACROECONOMETRÍA</b><br>\n",
    "    <b>Profesor:  Randall Romero Aguilar, PhD</b>\n",
    "<br><br>\n",
    "<b>Laboratorio:</b>\n",
    "<br>    \n",
    "<div style=\"font-size:250%;color:white; background-color: #0064b0;\">Introducción a Python</div>\n",
    "<div style=\"font-size:175%;color:white; background-color: #0064b0;\">Parte 6: Clases y objetos</div>    \n",
    "\n",
    "</center>\n",
    "<br><br>\n",
    "<p style=\"font-size:120%;\">En este cuaderno se hace una pequeña introducción al lenguage de programación Python. </p>\n",
    "\n",
    "<i>Creado:     2020-Sep-01 \n",
    "    <br>\n",
    "    Actualizado: 2020-Sep-01</i>\n",
    "<hr>\n"
   ]
  },
  {
   "cell_type": "markdown",
   "metadata": {
    "slideshow": {
     "slide_type": "slide"
    }
   },
   "source": [
    "# Diseñando una clase"
   ]
  },
  {
   "cell_type": "markdown",
   "metadata": {},
   "source": [
    "* Una **clase** es una *plantilla* que describe las propiedades que caracterizan a un **objeto**. Cada clase contiene datos (**miembros**) y funciones (**métodos**) que operan sobre los objetos.\n",
    "* Para referirnos a los miembros y métodos de una clase utilizamos la *notación punto*: escribimos el nombre del objeto seguido de un punto y del miembro o método deseado."
   ]
  },
  {
   "cell_type": "markdown",
   "metadata": {
    "slideshow": {
     "slide_type": "slide"
    }
   },
   "source": [
    "## Ejemplo de clase: una cuenta bancaria\n",
    "\n"
   ]
  },
  {
   "cell_type": "markdown",
   "metadata": {},
   "source": [
    "En este ejemplo creamos una clase para representar una **cuenta** bancaria.\n",
    "\n",
    "Los **miembros** que debe guardar un objeto de esta clase son:\n",
    "* `cliente`\n",
    "* `saldo`\n",
    "* `número`\n",
    "* `fecha_apertura`\n",
    "\n",
    "Los **métodos** que debe ejecutar la cuenta son\n",
    "* `depositar()`\n",
    "* `retirar()`\n",
    "* `transferir()`\n",
    "\n",
    "Además, debemos implementar estos métodos:\n",
    "* `__init__()`  cómo se abre una cuenta\n",
    "* `__repr__()`  cómo se imprime una cuenta\n",
    "\n",
    "Finalmente, el método **transferir** debe verificar que la cuenta de destino exista."
   ]
  },
  {
   "cell_type": "code",
   "execution_count": null,
   "metadata": {},
   "outputs": [],
   "source": []
  },
  {
   "cell_type": "code",
   "execution_count": null,
   "metadata": {},
   "outputs": [],
   "source": [
    "from datetime import datetime"
   ]
  },
  {
   "cell_type": "code",
   "execution_count": null,
   "metadata": {},
   "outputs": [],
   "source": [
    "class cuenta:\n",
    "    total_abiertas = 0\n",
    "    existentes = dict()\n",
    "    \n",
    "    def __init__(self, cliente):\n",
    "        cuenta.total_abiertas += 1\n",
    "        self.cliente = cliente    # nombre del dueño de la cuenta\n",
    "        self.saldo = 0.0          # saldo inicial       \n",
    "        self.número = f\"UCR-{cuenta.total_abiertas:04d}\"\n",
    "        self.fecha_apertura = datetime.now()\n",
    "        cuenta.existentes[self.número] = self\n",
    "        print(f\"Se ha abierto la cuenta {self.número} a nombre de {self.cliente} el {self.fecha_apertura}\")\n",
    "        \n",
    "    def __repr__(self):\n",
    "        return f\"Cuenta {self.número}, cliente {self.cliente}, saldo = {self.saldo}\"\n",
    "    \n",
    "    def depositar(self, monto):\n",
    "        if monto < 0:\n",
    "            print(\"ERROR:  El monto no debe ser negativo\")\n",
    "        else:\n",
    "            self.saldo += monto\n",
    "            print(f\"Se depositó {monto:.2f} en la cuenta {self.número}. Nuevo saldo = {self.saldo:.2f}\")       \n",
    "            \n",
    "    def retirar(self, monto):\n",
    "        if monto < 0:\n",
    "            print(\"ERROR:  El monto no debe ser negativo\")\n",
    "        elif monto > self.saldo:\n",
    "            print(\"ERROR: Fondos insuficientes\")\n",
    "        else:\n",
    "            self.saldo -= monto\n",
    "            print(f\"Se retiró {monto:.2f} de la cuenta {self.número}. Nuevo saldo = {self.saldo:.2f}\")       \n",
    "\n",
    "    \n",
    "    def transferir(self, monto, otra_cuenta):\n",
    "        if monto < 0:\n",
    "            print(\"ERROR:  El monto no debe ser negativo\")\n",
    "        elif monto > self.saldo:\n",
    "            print(\"ERROR: Fondos insuficientes\")\n",
    "        elif otra_cuenta not in cuenta.existentes:\n",
    "            print(\"ERROR: Cuenta destino no existe\")\n",
    "        else:\n",
    "            self.saldo -= monto\n",
    "            cuenta.existentes[otra_cuenta].saldo += monto\n",
    "            print(f\"Se transfirió {monto:.2f} de la cuenta {self.número} a la cuenta {otra_cuenta}\")       \n",
    "            \n",
    "            \n",
    "cc1 = cuenta(\"Rodrigo\")\n",
    "cc2 = cuenta(\"Pedro\")\n",
    "cuenta.existentes"
   ]
  },
  {
   "cell_type": "code",
   "execution_count": null,
   "metadata": {},
   "outputs": [],
   "source": [
    "cc1.depositar(500)\n",
    "cc1.retirar(200)\n",
    "cc1.transferir(100, 'UCR-0002')\n",
    "cuenta.existentes"
   ]
  },
  {
   "cell_type": "markdown",
   "metadata": {
    "slideshow": {
     "slide_type": "slide"
    }
   },
   "source": [
    "## Ejemplo de clase: un polinomio\n"
   ]
  },
  {
   "cell_type": "markdown",
   "metadata": {},
   "source": [
    "En este ejemplo creamos una clase para representar un **polinomio**.\n",
    "\n",
    "\\begin{equation}\n",
    "P(x) = c_0 + c_1x + c_2x^2 + \\dots c_nx^n, \\qquad c_n=0\n",
    "\\end{equation}\n",
    "\n",
    "\n",
    "\n",
    "\n",
    "Los **miembros** que debe guardar un objeto de esta clase son:\n",
    "* `coefs` = $[c_0, c_1, c_2, \\dots, c_n]$\n",
    "* `grado` = $n$\n",
    "\n",
    "Los **métodos** que debe ejecutar la cuenta son\n",
    "* `simplificar()` para eliminar los monomios de mayor grado que tengan coeficiente cero\n",
    "* `plot()` para graficar el polinomio\n",
    "\n",
    "Además, debemos implementar estos métodos:\n",
    "* `__init__()`  cómo se crea un polinomio\n",
    "* `__repr__()`  cómo se imprime un polinomio\n",
    "* `__add__()`   para sumar dos polinomios\n",
    "* `__call__()`  para evaluar un polinomio"
   ]
  },
  {
   "cell_type": "code",
   "execution_count": null,
   "metadata": {},
   "outputs": [],
   "source": [
    "import numpy as np\n",
    "import matplotlib.pyplot as plt"
   ]
  },
  {
   "cell_type": "code",
   "execution_count": null,
   "metadata": {},
   "outputs": [],
   "source": [
    "class polinomio:\n",
    "    \n",
    "    def __init__(self, *args):\n",
    "        self.coefs = np.array(args)\n",
    "        self.simplificar()\n",
    "        self.grado = len(self.coefs) - 1\n",
    "        \n",
    "    def __repr__(self):\n",
    "        términos = [f\"{c if c !=1 else ''}{'x' if k else ''}{f'^{k}' if k>1 else ''}\" for k, c in enumerate(self.coefs) if c !=0]        \n",
    "        return \" + \".join(términos)\n",
    "    \n",
    "    def simplificar(self):\n",
    "        coefs = list(self.coefs)\n",
    "        while coefs[-1] == 0:\n",
    "            coefs.pop()\n",
    "        self.coefs = np.array(coefs)\n",
    "    \n",
    "    def __add__(self, otro):\n",
    "        grado = max(self.grado, otro.grado)\n",
    "        coefs = np.zeros(grado + 1)\n",
    "        coefs[:self.grado + 1] = self.coefs\n",
    "        coefs[:otro.grado + 1] += otro.coefs\n",
    "        return polinomio(*coefs)\n",
    "        \n",
    "    def __call__(self, x):\n",
    "        \n",
    "        resultado = np.zeros_like(x)\n",
    "        faltan = self.grado\n",
    "        for coef in self.coefs[-1:0:-1]:\n",
    "            resultado += coef\n",
    "            resultado *= x \n",
    "        return resultado + self.coefs[0]\n",
    "    \n",
    "    def plot(self, ax, a, b, n=121, **kwargs):       \n",
    "        x = np.linspace(a, b, n)\n",
    "        ax.plot(x, self(x), **kwargs)\n",
    "        ax.set(title=str(self))\n",
    "        return ax"
   ]
  },
  {
   "cell_type": "code",
   "execution_count": null,
   "metadata": {},
   "outputs": [],
   "source": [
    "P = polinomio(9, 0, 2, 2)\n",
    "P"
   ]
  },
  {
   "cell_type": "code",
   "execution_count": null,
   "metadata": {},
   "outputs": [],
   "source": [
    "Q = polinomio(3,1,1,-2)\n",
    "Q"
   ]
  },
  {
   "cell_type": "code",
   "execution_count": null,
   "metadata": {},
   "outputs": [],
   "source": [
    "P + Q"
   ]
  },
  {
   "cell_type": "code",
   "execution_count": null,
   "metadata": {},
   "outputs": [],
   "source": [
    "fig, axs = plt.subplots(3,1, figsize=[9,9], sharex=True)\n",
    "P.plot(axs[0], -2, 2)\n",
    "Q.plot(axs[1], -2, 2, color='orchid')\n",
    "(P+Q).plot(axs[2], -2, 2, color='skyblue', linewidth=5)\n"
   ]
  }
 ],
 "metadata": {
  "kernel_info": {
   "name": "python3"
  },
  "kernelspec": {
   "display_name": "Python 3",
   "language": "python",
   "name": "python3"
  },
  "language_info": {
   "codemirror_mode": {
    "name": "ipython",
    "version": 3
   },
   "file_extension": ".py",
   "mimetype": "text/x-python",
   "name": "python",
   "nbconvert_exporter": "python",
   "pygments_lexer": "ipython3",
   "version": "3.8.3"
  },
  "nteract": {
   "version": "0.14.3"
  },
  "toc-autonumbering": false,
  "toc-showtags": false
 },
 "nbformat": 4,
 "nbformat_minor": 4
}
