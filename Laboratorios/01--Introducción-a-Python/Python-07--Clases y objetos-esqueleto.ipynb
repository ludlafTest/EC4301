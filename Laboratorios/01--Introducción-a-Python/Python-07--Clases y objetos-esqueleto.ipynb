{
  "cells": [
    {
      "cell_type": "markdown",
      "source": [
        "<img src=\"figures/escuela-de-economia.png\" width=\"260\" height=\"60\">\n",
        "<center>\n",
        "    <b>EC4301 MACROECONOMETRÍA</b><br>\n",
        "    <b>Profesor:  Randall Romero Aguilar, PhD</b>\n",
        "<br><br>\n",
        "<b>Laboratorio:</b>\n",
        "<br>    \n",
        "<div style=\"font-size:250%;color:white; background-color: #0064b0;\">Introducción a Python</div>\n",
        "<div style=\"font-size:175%;color:white; background-color: #0064b0;\">Parte 6: Clases y objetos</div>    \n",
        "\n",
        "</center>\n",
        "<br><br>\n",
        "<p style=\"font-size:120%;\">En este cuaderno hacemos una pequeña introducción al lenguage de programación Python. </p>\n",
        "\n",
        "<i>Creado:     2020-Sep-01 \n",
        "    <br>\n",
        "    Actualizado: 2020-Sep-01</i>\n",
        "<hr>\n"
      ],
      "metadata": {}
    },
    {
      "cell_type": "markdown",
      "source": [
        "# Diseñando una clase"
      ],
      "metadata": {
        "slideshow": {
          "slide_type": "slide"
        }
      }
    },
    {
      "cell_type": "markdown",
      "source": [
        "* Una **clase** es una *plantilla* que describe las propiedades que caracterizan a un **objeto**. Cada clase contiene datos (**miembros**) y funciones (**métodos**) que operan sobre los objetos.\n",
        "* Para referirnos a los miembros y métodos de una clase utilizamos la *notación punto*: escribimos el nombre del objeto seguido de un punto y del miembro o método deseado."
      ],
      "metadata": {}
    },
    {
      "cell_type": "markdown",
      "source": [
        "## Ejemplo de clase: una cuenta bancaria\n",
        "\n"
      ],
      "metadata": {
        "slideshow": {
          "slide_type": "slide"
        }
      }
    },
    {
      "cell_type": "markdown",
      "source": [
        "En este ejemplo creamos una clase para representar una **cuenta** bancaria.\n",
        "\n",
        "Los **miembros** que debe guardar un objeto de esta clase son:\n",
        "* `cliente`\n",
        "* `saldo`\n",
        "* `número`\n",
        "* `fecha_apertura`\n",
        "\n",
        "Los **métodos** que debe ejecutar la cuenta son\n",
        "* `depositar()`\n",
        "* `retirar()`\n",
        "* `transferir()`\n",
        "\n",
        "Además, debemos implementar estos métodos:\n",
        "* `__init__()`  cómo se abre una cuenta\n",
        "* `__repr__()`  cómo se imprime una cuenta\n",
        "\n",
        "Finalmente, el método **transferir** debe verificar que la cuenta de destino exista."
      ],
      "metadata": {}
    },
    {
      "cell_type": "code",
      "source": [
        "from datetime import datetime"
      ],
      "outputs": [],
      "execution_count": null,
      "metadata": {}
    },
    {
      "cell_type": "code",
      "source": [
        "class cuenta:\n",
        "    \n",
        "    \n",
        "    def __init__(self, cliente):\n",
        "        pass\n",
        "        \n",
        "    def __repr__(self):\n",
        "        pass\n",
        "    \n",
        "    def depositar(self, monto):\n",
        "        pass\n",
        "            \n",
        "    def retirar(self, monto):\n",
        "        pass\n",
        "    \n",
        "    def transferir(self, monto, otra_cuenta):\n",
        "        pass       \n",
        "            "
      ],
      "outputs": [],
      "execution_count": null,
      "metadata": {}
    },
    {
      "cell_type": "markdown",
      "source": [
        "Para probar la clase, abramos la cuenta `cta1` a nombre de \"Rodrigo\" y la cuenta `cta2` a nombre de \"Pedro\""
      ],
      "metadata": {}
    },
    {
      "cell_type": "code",
      "source": [
        " "
      ],
      "outputs": [],
      "execution_count": null,
      "metadata": {}
    },
    {
      "cell_type": "markdown",
      "source": [
        "Verificamos que las dos cuentas existen"
      ],
      "metadata": {}
    },
    {
      "cell_type": "code",
      "source": [],
      "outputs": [],
      "execution_count": null,
      "metadata": {}
    },
    {
      "cell_type": "markdown",
      "source": [
        "Rodrigo deposita 500 colones."
      ],
      "metadata": {}
    },
    {
      "cell_type": "code",
      "source": [],
      "outputs": [],
      "execution_count": null,
      "metadata": {}
    },
    {
      "cell_type": "markdown",
      "source": [
        "Rodrigo retira 200 colones."
      ],
      "metadata": {}
    },
    {
      "cell_type": "code",
      "source": [],
      "outputs": [],
      "execution_count": null,
      "metadata": {}
    },
    {
      "cell_type": "markdown",
      "source": [
        "Rodrigo le transfiere a Pedro 100 colones."
      ],
      "metadata": {}
    },
    {
      "cell_type": "code",
      "source": [],
      "outputs": [],
      "execution_count": null,
      "metadata": {}
    },
    {
      "cell_type": "markdown",
      "source": [
        "Por último, volvemos a revisar las cuentas."
      ],
      "metadata": {}
    },
    {
      "cell_type": "code",
      "source": [],
      "outputs": [],
      "execution_count": null,
      "metadata": {}
    },
    {
      "cell_type": "markdown",
      "source": [
        "## Ejemplo de clase: un polinomio\n"
      ],
      "metadata": {
        "slideshow": {
          "slide_type": "slide"
        }
      }
    },
    {
      "cell_type": "markdown",
      "source": [
        "En este ejemplo creamos una clase para representar un **polinomio**.\n",
        "\n",
        "\\begin{equation}\n",
        "P(x) = c_0 + c_1x + c_2x^2 + \\dots c_nx^n, \\qquad c_n=0\n",
        "\\end{equation}\n",
        "\n",
        "\n",
        "\n",
        "\n",
        "Los **miembros** que debe guardar un objeto de esta clase son:\n",
        "* `coefs` = $[c_0, c_1, c_2, \\dots, c_n]$\n",
        "* `grado` = $n$\n",
        "\n",
        "Los **métodos** que debe ejecutar la cuenta son\n",
        "* `simplificar()` para eliminar los monomios de mayor grado que tengan coeficiente cero\n",
        "* `plot()` para graficar el polinomio\n",
        "\n",
        "Además, debemos implementar estos métodos:\n",
        "* `__init__()`  cómo se crea un polinomio\n",
        "* `__repr__()`  cómo se imprime un polinomio\n",
        "* `__add__()`   para sumar dos polinomios\n",
        "* `__call__()`  para evaluar un polinomio"
      ],
      "metadata": {}
    },
    {
      "cell_type": "code",
      "source": [
        "import numpy as np\n",
        "import matplotlib.pyplot as plt"
      ],
      "outputs": [],
      "execution_count": null,
      "metadata": {}
    },
    {
      "cell_type": "code",
      "source": [
        "class polinomio:\n",
        "    \n",
        "    def __init__(self, *args):\n",
        "        pass\n",
        "        \n",
        "    def __repr__(self):\n",
        "        pass\n",
        "    \n",
        "    def simplificar(self):\n",
        "        pass\n",
        "    \n",
        "    def __add__(self, otro):\n",
        "        pass\n",
        "        \n",
        "    def __call__(self, x):\n",
        "        pass\n",
        "    \n",
        "    def plot(self, ax, a, b, n=121, **kwargs):       \n",
        "        pass"
      ],
      "outputs": [],
      "execution_count": null,
      "metadata": {}
    },
    {
      "cell_type": "markdown",
      "source": [
        "Creamos el polinomio $P(x)= 9 + 2x^2 +2x^3$"
      ],
      "metadata": {}
    },
    {
      "cell_type": "code",
      "source": [],
      "outputs": [],
      "execution_count": null,
      "metadata": {}
    },
    {
      "cell_type": "markdown",
      "source": [
        "Creamos el polinomio $Q(x) = 3 + x + x^2 -2x^3$"
      ],
      "metadata": {}
    },
    {
      "cell_type": "code",
      "source": [],
      "outputs": [],
      "execution_count": null,
      "metadata": {}
    },
    {
      "cell_type": "markdown",
      "source": [
        "Sumamos los dos polinomios: $R(x) = P(x) + Q(x)$"
      ],
      "metadata": {}
    },
    {
      "cell_type": "code",
      "source": [],
      "outputs": [],
      "execution_count": null,
      "metadata": {}
    },
    {
      "cell_type": "markdown",
      "source": [
        "Graficamos los 3 polinomios en una figura, en el rango $x\\in[-2,2]$, cada uno en su propio eje de coordenadas."
      ],
      "metadata": {}
    },
    {
      "cell_type": "code",
      "source": [],
      "outputs": [],
      "execution_count": null,
      "metadata": {}
    }
  ],
  "metadata": {
    "kernel_info": {
      "name": "python3"
    },
    "kernelspec": {
      "display_name": "Python 3",
      "language": "python",
      "name": "python3"
    },
    "language_info": {
      "codemirror_mode": {
        "name": "ipython",
        "version": 3
      },
      "file_extension": ".py",
      "mimetype": "text/x-python",
      "name": "python",
      "nbconvert_exporter": "python",
      "pygments_lexer": "ipython3",
      "version": "3.8.3"
    },
    "nteract": {
      "version": "0.25.0"
    },
    "toc-autonumbering": false,
    "toc-showtags": false
  },
  "nbformat": 4,
  "nbformat_minor": 4
}
