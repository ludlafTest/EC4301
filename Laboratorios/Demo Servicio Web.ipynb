{
 "cells": [
  {
   "cell_type": "markdown",
   "metadata": {},
   "source": [
    "# Demo: Usando la clase Servicio Web del paquete bccr\n",
    "\n",
    "**Randall Romero Aguilar**\n",
    "\n",
    "- Primera versión: 21 de diciembre de 2019\n",
    "- Esta actualización: 25 de abril de 2021.\n",
    "\n",
    "----------"
   ]
  },
  {
   "cell_type": "markdown",
   "metadata": {},
   "source": [
    "Este cuaderno de Jupyter ilustra el uso de la clase `ServicioWeb` del paquete de Python `bccr`, la cual facilita la descarga de datos del servicio Web del Banco Central de Costa Rica. La documentación completa de esta clase está disponible en https://randall-romero.github.io/bccr/gee.html.\n",
    "\n",
    "Se asume que el se tiene instalada la versión 2021.05.1 del paquete o una más reciente.\n",
    "\n",
    "Este primer bloque instala el paquete si está corriendo este cuaderno de Jupyter en Google Colab."
   ]
  },
  {
   "cell_type": "code",
   "execution_count": 1,
   "metadata": {},
   "outputs": [
    {
     "name": "stdout",
     "output_type": "stream",
     "text": [
      "Este cuaderno está corriendo localmente.\n"
     ]
    }
   ],
   "source": [
    "if 'google.colab' in str(get_ipython()):\n",
    "    print(\"Este cuaderno está corriendo en Google Colab. Es necesario instalar el paquete bccr para obtener los datos\")\n",
    "    !pip install bccr\n",
    "else:\n",
    "    print(\"Este cuaderno está corriendo localmente.\")"
   ]
  },
  {
   "cell_type": "markdown",
   "metadata": {},
   "source": [
    "### Pasos preliminares"
   ]
  },
  {
   "cell_type": "markdown",
   "metadata": {},
   "source": [
    "Primero cargamos algunos paquetes: `pandas` para manipular los datos en Python, `numpy` para calcular un promedio (más adelante), `matplotlib` para hacer gráficos."
   ]
  },
  {
   "cell_type": "code",
   "execution_count": 1,
   "metadata": {},
   "outputs": [],
   "source": [
    "import pandas as pd\n",
    "import numpy as np\n",
    "import matplotlib.pyplot as plt\n",
    "plt.style.use('seaborn')"
   ]
  },
  {
   "cell_type": "markdown",
   "metadata": {},
   "source": [
    "## 1. Iniciando una consulta"
   ]
  },
  {
   "cell_type": "markdown",
   "metadata": {},
   "source": [
    "Se import desde `SW` desde `bccr`. Este es un objeto de la clase `ServicioWeb`."
   ]
  },
  {
   "cell_type": "code",
   "execution_count": 2,
   "metadata": {},
   "outputs": [],
   "source": [
    "from bccr import SW"
   ]
  },
  {
   "cell_type": "markdown",
   "metadata": {},
   "source": [
    "## 2. Buscando una serie"
   ]
  },
  {
   "cell_type": "markdown",
   "metadata": {},
   "source": [
    "Para importar una serie del servicio web, es necesario saber su código. Este código es el mismo que se ingresaría en el formulario disponible en la página del BCCR. Para facilitar encontrar las series, la clase `bccr.ServicioWeb` provee la función `buscar`. Acá, por ejemplo, buscamos la *frase* `'medio circulante'`:"
   ]
  },
  {
   "cell_type": "code",
   "execution_count": 3,
   "metadata": {},
   "outputs": [
    {
     "data": {
      "text/html": [
       "<div>\n",
       "<style scoped>\n",
       "    .dataframe tbody tr th:only-of-type {\n",
       "        vertical-align: middle;\n",
       "    }\n",
       "\n",
       "    .dataframe tbody tr th {\n",
       "        vertical-align: top;\n",
       "    }\n",
       "\n",
       "    .dataframe thead th {\n",
       "        text-align: right;\n",
       "    }\n",
       "</style>\n",
       "<table border=\"1\" class=\"dataframe\">\n",
       "  <thead>\n",
       "    <tr style=\"text-align: right;\">\n",
       "      <th></th>\n",
       "      <th>DESCRIPCION</th>\n",
       "      <th>descripcion</th>\n",
       "      <th>Unidad</th>\n",
       "      <th>Medida</th>\n",
       "      <th>periodo</th>\n",
       "    </tr>\n",
       "    <tr>\n",
       "      <th>codigo</th>\n",
       "      <th></th>\n",
       "      <th></th>\n",
       "      <th></th>\n",
       "      <th></th>\n",
       "      <th></th>\n",
       "    </tr>\n",
       "  </thead>\n",
       "  <tbody>\n",
       "    <tr>\n",
       "      <th>1445</th>\n",
       "      <td>Node('/BCCR/Sector Monetario y Financiero/Medio circulante sistema bancario nacional [1445]')</td>\n",
       "      <td>Medio circulante</td>\n",
       "      <td>Colón Costarricense</td>\n",
       "      <td>Millones</td>\n",
       "      <td>Mensual</td>\n",
       "    </tr>\n",
       "    <tr>\n",
       "      <th>1479</th>\n",
       "      <td>Node('/BCCR/Sector Monetario y Financiero/Medio circulante sistema financiero nacional [1479]')</td>\n",
       "      <td>Medio circulante</td>\n",
       "      <td>Colón Costarricense</td>\n",
       "      <td>Millones</td>\n",
       "      <td>Mensual</td>\n",
       "    </tr>\n",
       "    <tr>\n",
       "      <th>2936</th>\n",
       "      <td>Node('/BCCR/Sector Monetario y Financiero/Medio circulante sistema financiero nacional [1479]/Otros activos netos [2...</td>\n",
       "      <td>Otros activos netos</td>\n",
       "      <td>Colón Costarricense</td>\n",
       "      <td>Millones</td>\n",
       "      <td>Mensual</td>\n",
       "    </tr>\n",
       "  </tbody>\n",
       "</table>\n",
       "</div>"
      ],
      "text/plain": [
       "                                                                                                                    DESCRIPCION          descripcion               Unidad    Medida  periodo\n",
       "codigo                                                                                                                                                                                      \n",
       "1445                              Node('/BCCR/Sector Monetario y Financiero/Medio circulante sistema bancario nacional [1445]')     Medio circulante  Colón Costarricense  Millones  Mensual\n",
       "1479                            Node('/BCCR/Sector Monetario y Financiero/Medio circulante sistema financiero nacional [1479]')     Medio circulante  Colón Costarricense  Millones  Mensual\n",
       "2936    Node('/BCCR/Sector Monetario y Financiero/Medio circulante sistema financiero nacional [1479]/Otros activos netos [2...  Otros activos netos  Colón Costarricense  Millones  Mensual"
      ]
     },
     "execution_count": 3,
     "metadata": {},
     "output_type": "execute_result"
    }
   ],
   "source": [
    "SW.buscar(frase='medio circulante')"
   ]
  },
  {
   "cell_type": "markdown",
   "metadata": {},
   "source": [
    "El resultado nos indica que los códigos 1445,1479 y 2936 corresponden a series que incluyen la *frase* **exacta** \"medio circulante\" en su descripción. Si no sabemos la frase exacta pero sí varias palabras que deben aparecer en la descripción (en cualquier orden), usamos `buscar` con la opción `todos`"
   ]
  },
  {
   "cell_type": "code",
   "execution_count": 4,
   "metadata": {},
   "outputs": [
    {
     "data": {
      "text/html": [
       "<div>\n",
       "<style scoped>\n",
       "    .dataframe tbody tr th:only-of-type {\n",
       "        vertical-align: middle;\n",
       "    }\n",
       "\n",
       "    .dataframe tbody tr th {\n",
       "        vertical-align: top;\n",
       "    }\n",
       "\n",
       "    .dataframe thead th {\n",
       "        text-align: right;\n",
       "    }\n",
       "</style>\n",
       "<table border=\"1\" class=\"dataframe\">\n",
       "  <thead>\n",
       "    <tr style=\"text-align: right;\">\n",
       "      <th></th>\n",
       "      <th>DESCRIPCION</th>\n",
       "      <th>descripcion</th>\n",
       "      <th>Unidad</th>\n",
       "      <th>Medida</th>\n",
       "      <th>periodo</th>\n",
       "    </tr>\n",
       "    <tr>\n",
       "      <th>codigo</th>\n",
       "      <th></th>\n",
       "      <th></th>\n",
       "      <th></th>\n",
       "      <th></th>\n",
       "      <th></th>\n",
       "    </tr>\n",
       "  </thead>\n",
       "  <tbody>\n",
       "    <tr>\n",
       "      <th>1365</th>\n",
       "      <td>Node('/BCCR/Sector Monetario y Financiero/Numerario en poder del público [1365]')</td>\n",
       "      <td>ND</td>\n",
       "      <td>Colón Costarricense</td>\n",
       "      <td>Millones</td>\n",
       "      <td>Mensual</td>\n",
       "    </tr>\n",
       "    <tr>\n",
       "      <th>1489</th>\n",
       "      <td>Node('/BCCR/Sector Monetario y Financiero/Numerario en poder del sistema financiero [1489]')</td>\n",
       "      <td>Numerario en Poder del Público</td>\n",
       "      <td>Colón Costarricense</td>\n",
       "      <td>Millones</td>\n",
       "      <td>Mensual</td>\n",
       "    </tr>\n",
       "  </tbody>\n",
       "</table>\n",
       "</div>"
      ],
      "text/plain": [
       "                                                                                         DESCRIPCION                     descripcion               Unidad    Medida  periodo\n",
       "codigo                                                                                                                                                                      \n",
       "1365               Node('/BCCR/Sector Monetario y Financiero/Numerario en poder del público [1365]')                              ND  Colón Costarricense  Millones  Mensual\n",
       "1489    Node('/BCCR/Sector Monetario y Financiero/Numerario en poder del sistema financiero [1489]')  Numerario en Poder del Público  Colón Costarricense  Millones  Mensual"
      ]
     },
     "execution_count": 4,
     "metadata": {},
     "output_type": "execute_result"
    }
   ],
   "source": [
    "SW.buscar(todos='numerario poder público') #puede omitir todos="
   ]
  },
  {
   "cell_type": "markdown",
   "metadata": {},
   "source": [
    "También tenemos la opción de buscar series donde solo `algunos` de los términos aparecen en la descrición. Podemos además filtrar los resultados por la frecuencia de los datos (`A` anual, `6M` semestral, `Q` trimestral, `M` mensual, `W` semanal, y `D`diaria."
   ]
  },
  {
   "cell_type": "code",
   "execution_count": 5,
   "metadata": {},
   "outputs": [
    {
     "data": {
      "text/html": [
       "<div>\n",
       "<style scoped>\n",
       "    .dataframe tbody tr th:only-of-type {\n",
       "        vertical-align: middle;\n",
       "    }\n",
       "\n",
       "    .dataframe tbody tr th {\n",
       "        vertical-align: top;\n",
       "    }\n",
       "\n",
       "    .dataframe thead th {\n",
       "        text-align: right;\n",
       "    }\n",
       "</style>\n",
       "<table border=\"1\" class=\"dataframe\">\n",
       "  <thead>\n",
       "    <tr style=\"text-align: right;\">\n",
       "      <th></th>\n",
       "      <th>DESCRIPCION</th>\n",
       "      <th>descripcion</th>\n",
       "      <th>Unidad</th>\n",
       "      <th>Medida</th>\n",
       "      <th>periodo</th>\n",
       "    </tr>\n",
       "    <tr>\n",
       "      <th>codigo</th>\n",
       "      <th></th>\n",
       "      <th></th>\n",
       "      <th></th>\n",
       "      <th></th>\n",
       "      <th></th>\n",
       "    </tr>\n",
       "  </thead>\n",
       "  <tbody>\n",
       "    <tr>\n",
       "      <th>325</th>\n",
       "      <td>Node('/BCCR/Tipos de cambio/Yen Japonés [325]')</td>\n",
       "      <td>Yen japonés</td>\n",
       "      <td>Yen Japonés</td>\n",
       "      <td>NO DEFINIDO</td>\n",
       "      <td>Diaria</td>\n",
       "    </tr>\n",
       "    <tr>\n",
       "      <th>41454</th>\n",
       "      <td>Node('/BCCR/Tipos de cambio/Japón (yen) [41454]')</td>\n",
       "      <td>Japón (yen)</td>\n",
       "      <td>Nivel</td>\n",
       "      <td>Unidades</td>\n",
       "      <td>Diaria</td>\n",
       "    </tr>\n",
       "  </tbody>\n",
       "</table>\n",
       "</div>"
      ],
      "text/plain": [
       "                                              DESCRIPCION  descripcion       Unidad       Medida periodo\n",
       "codigo                                                                                                  \n",
       "325       Node('/BCCR/Tipos de cambio/Yen Japonés [325]')  Yen japonés  Yen Japonés  NO DEFINIDO  Diaria\n",
       "41454   Node('/BCCR/Tipos de cambio/Japón (yen) [41454]')  Japón (yen)        Nivel     Unidades  Diaria"
      ]
     },
     "execution_count": 5,
     "metadata": {},
     "output_type": "execute_result"
    }
   ],
   "source": [
    "SW.buscar(algunos='japón yen', frecuencia='D')"
   ]
  },
  {
   "cell_type": "markdown",
   "metadata": {},
   "source": [
    "## 2. Descargando datos\n",
    "### 2.1 Descargando una serie\n",
    "\n",
    "Supongamos que queremos descargar datos del medio circulante (sistema bancario nacional). Arriba encontramos que su código es el 1445. Para ello ejecutamos `SW()` directamente (esto equivale a `SW.datos()`):"
   ]
  },
  {
   "cell_type": "code",
   "execution_count": 6,
   "metadata": {},
   "outputs": [
    {
     "data": {
      "image/png": "[encoded data removed]",
      "text/plain": [
       "<Figure size 576x396 with 1 Axes>"
      ]
     },
     "metadata": {},
     "output_type": "display_data"
    }
   ],
   "source": [
    "datos = SW(M1=1445)\n",
    "datos.plot();"
   ]
  },
  {
   "cell_type": "markdown",
   "metadata": {},
   "source": [
    "En la celda anterior, la parte `.rename(columns={'1445':'M1'})` es opcional, la utilizamos acá para cambiar el nombre de la serie. Observe que si bien podemos buscar la serie por código con un entero `1445` o un texto `'1445'`, el resultado siempre dará el *nombre* de la variable como texto; por ello para renombrarla con `.rename()` es necesario usar un texto."
   ]
  },
  {
   "cell_type": "markdown",
   "metadata": {},
   "source": [
    "### 2.2 Descargando dos series de la misma frecuencia\n",
    "Es posible además pasarle varios códigos a `datos` de una vez, ya sea en una lista `[1365,1445]` o tupla `(1365, 1445)` o bien las llaves de un diccionario (como se ilustra en la siguiente celda). Acá descargamos, además del medio circulante, en numerario en poder del público. El resultado será una tabla `pandas.DataFrame`, donde cada columna corresponde a una variable."
   ]
  },
  {
   "cell_type": "code",
   "execution_count": 7,
   "metadata": {},
   "outputs": [
    {
     "data": {
      "image/png": "[encoded data removed]",
      "text/plain": [
       "<Figure size 576x396 with 1 Axes>"
      ]
     },
     "metadata": {},
     "output_type": "display_data"
    }
   ],
   "source": [
    "dinero = SW(NPP=1365, M1=1445)\n",
    "dinero.plot();"
   ]
  },
  {
   "cell_type": "markdown",
   "metadata": {},
   "source": [
    "### 2.3 Descargando varias series de distinta frecuencia\n",
    "\n",
    "La función `datos` permite descargar variables de distinta frecuencia, convirtiéndolos a una frecuencia común. Por ejemplo, suponga que desea, además de los datos anteriores, la serie de la tasa básica pasiva:"
   ]
  },
  {
   "cell_type": "code",
   "execution_count": 8,
   "metadata": {},
   "outputs": [
    {
     "data": {
      "text/html": [
       "<div>\n",
       "<style scoped>\n",
       "    .dataframe tbody tr th:only-of-type {\n",
       "        vertical-align: middle;\n",
       "    }\n",
       "\n",
       "    .dataframe tbody tr th {\n",
       "        vertical-align: top;\n",
       "    }\n",
       "\n",
       "    .dataframe thead th {\n",
       "        text-align: right;\n",
       "    }\n",
       "</style>\n",
       "<table border=\"1\" class=\"dataframe\">\n",
       "  <thead>\n",
       "    <tr style=\"text-align: right;\">\n",
       "      <th></th>\n",
       "      <th>DESCRIPCION</th>\n",
       "      <th>descripcion</th>\n",
       "      <th>Unidad</th>\n",
       "      <th>Medida</th>\n",
       "      <th>periodo</th>\n",
       "    </tr>\n",
       "    <tr>\n",
       "      <th>codigo</th>\n",
       "      <th></th>\n",
       "      <th></th>\n",
       "      <th></th>\n",
       "      <th></th>\n",
       "      <th></th>\n",
       "    </tr>\n",
       "  </thead>\n",
       "  <tbody>\n",
       "    <tr>\n",
       "      <th>423</th>\n",
       "      <td>Node('/BCCR/Tasas de interés/Tasa básica pasiva calculada por el BCCR [423]')</td>\n",
       "      <td>Tasa Básica pasiva bruta calculada por el Banco Central.</td>\n",
       "      <td>Porcentaje</td>\n",
       "      <td>NO DEFINIDO</td>\n",
       "      <td>Diaria</td>\n",
       "    </tr>\n",
       "    <tr>\n",
       "      <th>430</th>\n",
       "      <td>Node('/BCCR/Tasas de interés/Tasa básica pasiva calculada por el BCCR [430]')</td>\n",
       "      <td>Tasa basica pasiva bruta a fin de cada mes calculada por el Banco Central de Costa Rica.</td>\n",
       "      <td>Porcentaje</td>\n",
       "      <td>NO DEFINIDO</td>\n",
       "      <td>Mensual</td>\n",
       "    </tr>\n",
       "    <tr>\n",
       "      <th>19654</th>\n",
       "      <td>Node('/BCCR/Tasas de interés/Tasa básica pasiva calculada por el BCCR [19654]')</td>\n",
       "      <td>Tasa Básica pasiva bruta calculada por el Banco Central.</td>\n",
       "      <td>Porcentaje</td>\n",
       "      <td>NO DEFINIDO</td>\n",
       "      <td>Nueva semanal</td>\n",
       "    </tr>\n",
       "  </tbody>\n",
       "</table>\n",
       "</div>"
      ],
      "text/plain": [
       "                                                                            DESCRIPCION                                                                               descripcion      Unidad       Medida        periodo\n",
       "codigo                                                                                                                                                                                                                   \n",
       "423       Node('/BCCR/Tasas de interés/Tasa básica pasiva calculada por el BCCR [423]')                                  Tasa Básica pasiva bruta calculada por el Banco Central.  Porcentaje  NO DEFINIDO         Diaria\n",
       "430       Node('/BCCR/Tasas de interés/Tasa básica pasiva calculada por el BCCR [430]')  Tasa basica pasiva bruta a fin de cada mes calculada por el Banco Central de Costa Rica.  Porcentaje  NO DEFINIDO        Mensual\n",
       "19654   Node('/BCCR/Tasas de interés/Tasa básica pasiva calculada por el BCCR [19654]')                                  Tasa Básica pasiva bruta calculada por el Banco Central.  Porcentaje  NO DEFINIDO  Nueva semanal"
      ]
     },
     "execution_count": 8,
     "metadata": {},
     "output_type": "execute_result"
    }
   ],
   "source": [
    "SW.buscar(frase='tasa básica pasiva calculada')"
   ]
  },
  {
   "cell_type": "markdown",
   "metadata": {},
   "source": [
    "Vemos que el código 423 es de una serie diaria, mientras que los datos de `M1`y `NPP` eran mensuales. En la siguiente celda, le indicamos a `datos` que debe convertir los datos de mayor a menor frecuencia usando un promedio (`func=np.mean`). Es posible además restringir el rango de los datos con los parámetros `FechaInicio=` y `FechaFinal=`."
   ]
  },
  {
   "cell_type": "code",
   "execution_count": 9,
   "metadata": {},
   "outputs": [
    {
     "data": {
      "image/png": "[encoded data removed]",
      "text/plain": [
       "<Figure size 864x432 with 3 Axes>"
      ]
     },
     "metadata": {},
     "output_type": "display_data"
    }
   ],
   "source": [
    "datos = SW(NPP=1365, M1=1445, Tasa_basica=423, FechaInicio=2015, func='mean')\n",
    "datos.plot(subplots=True, figsize=[12,6]);"
   ]
  },
  {
   "cell_type": "code",
   "execution_count": 10,
   "metadata": {},
   "outputs": [
    {
     "data": {
      "text/html": [
       "<div>\n",
       "<style scoped>\n",
       "    .dataframe tbody tr th:only-of-type {\n",
       "        vertical-align: middle;\n",
       "    }\n",
       "\n",
       "    .dataframe tbody tr th {\n",
       "        vertical-align: top;\n",
       "    }\n",
       "\n",
       "    .dataframe thead th {\n",
       "        text-align: right;\n",
       "    }\n",
       "</style>\n",
       "<table border=\"1\" class=\"dataframe\">\n",
       "  <thead>\n",
       "    <tr style=\"text-align: right;\">\n",
       "      <th></th>\n",
       "      <th>NPP</th>\n",
       "      <th>M1</th>\n",
       "      <th>Tasa_basica</th>\n",
       "    </tr>\n",
       "    <tr>\n",
       "      <th>fecha</th>\n",
       "      <th></th>\n",
       "      <th></th>\n",
       "      <th></th>\n",
       "    </tr>\n",
       "  </thead>\n",
       "  <tbody>\n",
       "    <tr>\n",
       "      <th>2020-12</th>\n",
       "      <td>1.060905e+06</td>\n",
       "      <td>4.964104e+06</td>\n",
       "      <td>3.437097</td>\n",
       "    </tr>\n",
       "    <tr>\n",
       "      <th>2021-01</th>\n",
       "      <td>1.024351e+06</td>\n",
       "      <td>4.988481e+06</td>\n",
       "      <td>3.506452</td>\n",
       "    </tr>\n",
       "    <tr>\n",
       "      <th>2021-02</th>\n",
       "      <td>1.006321e+06</td>\n",
       "      <td>4.578601e+06</td>\n",
       "      <td>3.485714</td>\n",
       "    </tr>\n",
       "    <tr>\n",
       "      <th>2021-03</th>\n",
       "      <td>1.034342e+06</td>\n",
       "      <td>4.733563e+06</td>\n",
       "      <td>3.416129</td>\n",
       "    </tr>\n",
       "    <tr>\n",
       "      <th>2021-04</th>\n",
       "      <td>NaN</td>\n",
       "      <td>NaN</td>\n",
       "      <td>3.263462</td>\n",
       "    </tr>\n",
       "  </tbody>\n",
       "</table>\n",
       "</div>"
      ],
      "text/plain": [
       "                  NPP            M1  Tasa_basica\n",
       "fecha                                           \n",
       "2020-12  1.060905e+06  4.964104e+06     3.437097\n",
       "2021-01  1.024351e+06  4.988481e+06     3.506452\n",
       "2021-02  1.006321e+06  4.578601e+06     3.485714\n",
       "2021-03  1.034342e+06  4.733563e+06     3.416129\n",
       "2021-04           NaN           NaN     3.263462"
      ]
     },
     "execution_count": 10,
     "metadata": {},
     "output_type": "execute_result"
    }
   ],
   "source": [
    "datos.tail()"
   ]
  },
  {
   "cell_type": "markdown",
   "metadata": {},
   "source": [
    "La frecuencia de los datos puede controlarse con el parámetro `freq=`. Si no se indica, se obtienen los datos de menor frecuencia. Es posible además indicar distintos métodos de conversión para `func=`, pasando un diccionario de la forma `{nombre1: función1, nombre2: función2, ,...}`."
   ]
  },
  {
   "cell_type": "markdown",
   "metadata": {},
   "source": [
    "## 3. Buscar información\n",
    "### 3.1 Buscar información de una variable"
   ]
  },
  {
   "cell_type": "markdown",
   "metadata": {},
   "source": [
    "Suponga que deseamos una variable que muestre todos estos términos"
   ]
  },
  {
   "cell_type": "code",
   "execution_count": 11,
   "metadata": {},
   "outputs": [
    {
     "data": {
      "text/html": [
       "<div>\n",
       "<style scoped>\n",
       "    .dataframe tbody tr th:only-of-type {\n",
       "        vertical-align: middle;\n",
       "    }\n",
       "\n",
       "    .dataframe tbody tr th {\n",
       "        vertical-align: top;\n",
       "    }\n",
       "\n",
       "    .dataframe thead th {\n",
       "        text-align: right;\n",
       "    }\n",
       "</style>\n",
       "<table border=\"1\" class=\"dataframe\">\n",
       "  <thead>\n",
       "    <tr style=\"text-align: right;\">\n",
       "      <th></th>\n",
       "      <th>DESCRIPCION</th>\n",
       "      <th>descripcion</th>\n",
       "      <th>Unidad</th>\n",
       "      <th>Medida</th>\n",
       "      <th>periodo</th>\n",
       "    </tr>\n",
       "    <tr>\n",
       "      <th>codigo</th>\n",
       "      <th></th>\n",
       "      <th></th>\n",
       "      <th></th>\n",
       "      <th></th>\n",
       "      <th></th>\n",
       "    </tr>\n",
       "  </thead>\n",
       "  <tbody>\n",
       "    <tr>\n",
       "      <th>33471</th>\n",
       "      <td>Node('/BCCR/Sector Real/PIB y gasto, volumen encadenado, serie original [33438]/IMPORTACIONES DE BIENES Y SERVICIOS ...</td>\n",
       "      <td>EXPORTACIONES DE BIENES Y SERVICIOS (P6)</td>\n",
       "      <td>Colón Costarricense Constantes</td>\n",
       "      <td>Millones</td>\n",
       "      <td>Trimestral</td>\n",
       "    </tr>\n",
       "    <tr>\n",
       "      <th>33472</th>\n",
       "      <td>Node('/BCCR/Sector Real/PIB y gasto, volumen encadenado, serie original [33439]/IMPORTACIONES DE BIENES Y SERVICIOS ...</td>\n",
       "      <td>EXPORTACIONES DE BIENES Y SERVICIOS (P6)</td>\n",
       "      <td>Porcentaje Variación Interanual</td>\n",
       "      <td>Millones</td>\n",
       "      <td>Trimestral</td>\n",
       "    </tr>\n",
       "  </tbody>\n",
       "</table>\n",
       "</div>"
      ],
      "text/plain": [
       "                                                                                                                    DESCRIPCION                               descripcion                           Unidad    Medida     periodo\n",
       "codigo                                                                                                                                                                                                                          \n",
       "33471   Node('/BCCR/Sector Real/PIB y gasto, volumen encadenado, serie original [33438]/IMPORTACIONES DE BIENES Y SERVICIOS ...  EXPORTACIONES DE BIENES Y SERVICIOS (P6)   Colón Costarricense Constantes  Millones  Trimestral\n",
       "33472   Node('/BCCR/Sector Real/PIB y gasto, volumen encadenado, serie original [33439]/IMPORTACIONES DE BIENES Y SERVICIOS ...  EXPORTACIONES DE BIENES Y SERVICIOS (P6)  Porcentaje Variación Interanual  Millones  Trimestral"
      ]
     },
     "execution_count": 11,
     "metadata": {},
     "output_type": "execute_result"
    }
   ],
   "source": [
    "SW.buscar('exportaciones importaciones encadenado original')"
   ]
  },
  {
   "cell_type": "markdown",
   "metadata": {},
   "source": [
    "El resultado obtenido nos deja una duda, porque en `DESCRIPCION` indica que se trata de importaciones  pero en `descripcion` menciona exportaciones.  Para obtener más información de `quien` es una variable:"
   ]
  },
  {
   "cell_type": "code",
   "execution_count": 12,
   "metadata": {},
   "outputs": [
    {
     "name": "stdout",
     "output_type": "stream",
     "text": [
      "Variable 33472 >>>\n",
      "   Nombre      : IMPORTACIONES DE BIENES Y SERVICIOS (P7).\n",
      "   Descripcion : EXPORTACIONES DE BIENES Y SERVICIOS (P6).\n",
      "   Unidad      : Porcentaje Variación Interanual (Millones).\n",
      "   Periodicidad: Trimestral.\n",
      "\n",
      "|--- Sector Real\n",
      "|------ PIB y gasto, volumen encadenado, serie original [33439]\n",
      "|--------- IMPORTACIONES DE BIENES Y SERVICIOS (P7) [33472]'\n",
      "\n",
      "\n"
     ]
    }
   ],
   "source": [
    "SW.quien(33472)"
   ]
  },
  {
   "cell_type": "markdown",
   "metadata": {},
   "source": [
    "Lo anterior nos indica que la variable 33472 está ligada a la 33439. Para ver todas las sub-variables de 33439, usamos la función `subcuentas`:"
   ]
  },
  {
   "cell_type": "code",
   "execution_count": 13,
   "metadata": {},
   "outputs": [
    {
     "name": "stdout",
     "output_type": "stream",
     "text": [
      "PIB y gasto, volumen encadenado, serie original [33439]\n",
      "├── DEMANDA INTERNA [33442]\n",
      "│   ├── Gasto de consumo final (P3/P4) [33445]\n",
      "│   │   ├── Gasto de consumo final de los hogares e ISFLSH [33448]\n",
      "│   │   └── Gasto de consumo final del Gobierno General [33451]\n",
      "│   └── Formación bruta de capital fijo [33454]\n",
      "│       └── Formación bruta de capital fijo (P51g) [33457]\n",
      "├── EXPORTACIONES DE BIENES Y SERVICIOS (P6) [33463]\n",
      "│   ├── Exportaciones de bienes f.o.b. (P61) [33466]\n",
      "│   └── Exportaciones de servicios (P62) [33469]\n",
      "└── IMPORTACIONES DE BIENES Y SERVICIOS (P7) [33472]\n",
      "    ├── Importaciones de bienes f.o.b. (P71) [33475]\n",
      "    └── Importaciones de servicios (P72) [33478]\n"
     ]
    }
   ],
   "source": [
    "SW.subcuentas(33439);"
   ]
  },
  {
   "cell_type": "markdown",
   "metadata": {},
   "source": [
    "Lo anterior nos permite deducir que en realidad 33472 se trata de datos de importaciones."
   ]
  },
  {
   "cell_type": "markdown",
   "metadata": {},
   "source": [
    "### 3.2 Buscar series relacionadas\n",
    "El ejemplo anterior ilustró el uso de `subcuentas` para encontrar series relacionadas. "
   ]
  },
  {
   "cell_type": "code",
   "execution_count": 14,
   "metadata": {},
   "outputs": [
    {
     "data": {
      "text/html": [
       "<div>\n",
       "<style scoped>\n",
       "    .dataframe tbody tr th:only-of-type {\n",
       "        vertical-align: middle;\n",
       "    }\n",
       "\n",
       "    .dataframe tbody tr th {\n",
       "        vertical-align: top;\n",
       "    }\n",
       "\n",
       "    .dataframe thead th {\n",
       "        text-align: right;\n",
       "    }\n",
       "</style>\n",
       "<table border=\"1\" class=\"dataframe\">\n",
       "  <thead>\n",
       "    <tr style=\"text-align: right;\">\n",
       "      <th></th>\n",
       "      <th>DESCRIPCION</th>\n",
       "      <th>descripcion</th>\n",
       "      <th>Unidad</th>\n",
       "      <th>Medida</th>\n",
       "      <th>periodo</th>\n",
       "    </tr>\n",
       "    <tr>\n",
       "      <th>codigo</th>\n",
       "      <th></th>\n",
       "      <th></th>\n",
       "      <th></th>\n",
       "      <th></th>\n",
       "      <th></th>\n",
       "    </tr>\n",
       "  </thead>\n",
       "  <tbody>\n",
       "    <tr>\n",
       "      <th>33438</th>\n",
       "      <td>Node('/BCCR/Sector Real/PIB y gasto, volumen encadenado, serie original [33438]')</td>\n",
       "      <td>Producto interno bruto a precios de mercado</td>\n",
       "      <td>Colón Costarricense Constantes</td>\n",
       "      <td>Millones</td>\n",
       "      <td>Trimestral</td>\n",
       "    </tr>\n",
       "    <tr>\n",
       "      <th>33439</th>\n",
       "      <td>Node('/BCCR/Sector Real/PIB y gasto, volumen encadenado, serie original [33439]')</td>\n",
       "      <td>Producto interno bruto a precios de mercado</td>\n",
       "      <td>Porcentaje Variación Interanual</td>\n",
       "      <td>Millones</td>\n",
       "      <td>Trimestral</td>\n",
       "    </tr>\n",
       "  </tbody>\n",
       "</table>\n",
       "</div>"
      ],
      "text/plain": [
       "                                                                              DESCRIPCION                                  descripcion                           Unidad    Medida     periodo\n",
       "codigo                                                                                                                                                                                       \n",
       "33438   Node('/BCCR/Sector Real/PIB y gasto, volumen encadenado, serie original [33438]')  Producto interno bruto a precios de mercado   Colón Costarricense Constantes  Millones  Trimestral\n",
       "33439   Node('/BCCR/Sector Real/PIB y gasto, volumen encadenado, serie original [33439]')  Producto interno bruto a precios de mercado  Porcentaje Variación Interanual  Millones  Trimestral"
      ]
     },
     "execution_count": 14,
     "metadata": {},
     "output_type": "execute_result"
    }
   ],
   "source": [
    "SW.buscar('Producto Interno Bruto volumen encadenado original', frecuencia='Q')"
   ]
  },
  {
   "cell_type": "markdown",
   "metadata": {},
   "source": [
    "En este caso concreto, nos interesa conocer componentes del PIb en colones (en vez de su variación interanual). Las `subcuentas` de 33438 nos ayuda a encontrar los códigos relevantes, a partir de lo cual podemos hacer un diccionario de las variables de interés: "
   ]
  },
  {
   "cell_type": "code",
   "execution_count": 15,
   "metadata": {},
   "outputs": [
    {
     "name": "stdout",
     "output_type": "stream",
     "text": [
      "Variable 33438 >>>\n",
      "   Nombre      : PIB y gasto, volumen encadenado, serie original.\n",
      "   Descripcion : Producto interno bruto a precios de mercado.\n",
      "   Unidad      : Colón Costarricense Constantes (Millones).\n",
      "   Periodicidad: Trimestral.\n",
      "\n",
      "|--- Sector Real\n",
      "|------ PIB y gasto, volumen encadenado, serie original [33438]'\n",
      "\n",
      "\n"
     ]
    }
   ],
   "source": [
    "SW.quien(33438)"
   ]
  },
  {
   "cell_type": "code",
   "execution_count": 16,
   "metadata": {},
   "outputs": [
    {
     "name": "stdout",
     "output_type": "stream",
     "text": [
      "PIB y gasto, volumen encadenado, serie original [33438]\n",
      "├── DEMANDA INTERNA [33441]\n",
      "│   ├── Gasto de consumo final (P3/P4) [33444]\n",
      "│   │   ├── Gasto de consumo final de los hogares e ISFLSH [33447]\n",
      "│   │   └── Gasto de consumo final del Gobierno General [33450]\n",
      "│   └── Formación bruta de capital fijo [33453]\n",
      "│       └── Formación bruta de capital fijo (P51g) [33456]\n",
      "├── EXPORTACIONES DE BIENES Y SERVICIOS (P6) [33462]\n",
      "│   ├── Exportaciones de bienes f.o.b. (P61) [33465]\n",
      "│   └── Exportaciones de servicios (P62) [33468]\n",
      "└── IMPORTACIONES DE BIENES Y SERVICIOS (P7) [33471]\n",
      "    ├── Importaciones de bienes f.o.b. (P71) [33474]\n",
      "    └── Importaciones de servicios (P72) [33477]\n"
     ]
    }
   ],
   "source": [
    "ctas = SW.subcuentas(33438)"
   ]
  },
  {
   "cell_type": "code",
   "execution_count": 17,
   "metadata": {},
   "outputs": [],
   "source": [
    "series = {\n",
    "    'PIB': 33438,\n",
    "    'Demanda Interna': 33441,\n",
    "    'Gasto': 33444,\n",
    "    'C': 33447,\n",
    "    'G': 33450,\n",
    "    'FBKF': 33453,\n",
    "    'I': 33456,\n",
    "    'X': 33462,\n",
    "    'Xb' : 33465,\n",
    "    'Xs' : 33468,\n",
    "    'M': 33471,\n",
    "    'Mb': 33474,\n",
    "    'Ms': 33477,\n",
    "}"
   ]
  },
  {
   "cell_type": "code",
   "execution_count": 18,
   "metadata": {},
   "outputs": [
    {
     "name": "stdout",
     "output_type": "stream",
     "text": [
      "\n",
      "No se obtuvieron datos de indicador 33441. Servidor respondio con mensaje OK\n",
      "Revise que este indicador efectivamente existe, o intente de nuevo la obtención de los datos.\n",
      "\n",
      "No se obtuvieron datos de indicador 33444. Servidor respondio con mensaje OK\n",
      "Revise que este indicador efectivamente existe, o intente de nuevo la obtención de los datos.\n",
      "\n",
      "No se obtuvieron datos de indicador 33453. Servidor respondio con mensaje OK\n",
      "Revise que este indicador efectivamente existe, o intente de nuevo la obtención de los datos.\n",
      "\n",
      "No se obtuvieron datos de indicador 33462. Servidor respondio con mensaje OK\n",
      "Revise que este indicador efectivamente existe, o intente de nuevo la obtención de los datos.\n",
      "\n",
      "No se obtuvieron datos de indicador 33471. Servidor respondio con mensaje OK\n",
      "Revise que este indicador efectivamente existe, o intente de nuevo la obtención de los datos.\n"
     ]
    }
   ],
   "source": [
    "cuentas_nacionales = SW(**series)"
   ]
  },
  {
   "cell_type": "markdown",
   "metadata": {},
   "source": [
    "Al parecer, el servicio web no proporciona directamente los datos para las variables sub-totales. Los demás datos los graficamos a continuación:"
   ]
  },
  {
   "cell_type": "code",
   "execution_count": 19,
   "metadata": {},
   "outputs": [
    {
     "data": {
      "image/png": "[encoded data removed]",
      "text/plain": [
       "<Figure size 864x360 with 1 Axes>"
      ]
     },
     "metadata": {},
     "output_type": "display_data"
    }
   ],
   "source": [
    "cuentas_nacionales.plot(figsize=[12,5]);"
   ]
  },
  {
   "cell_type": "markdown",
   "metadata": {},
   "source": [
    "## 4. Exportando datos"
   ]
  },
  {
   "cell_type": "markdown",
   "metadata": {},
   "source": [
    "Finalmente, podemos exportar los datos de `pandas` a otros formatos; aquí se muestran los comandos para obtener archivos CSV (`to_csv`), Excel (`to_excel`) y Latex (`to_latex`):"
   ]
  },
  {
   "cell_type": "code",
   "execution_count": 20,
   "metadata": {},
   "outputs": [],
   "source": [
    "cuentas_nacionales.to_csv('cuentas.csv')\n",
    "cuentas_nacionales.to_excel('cuentas.xlsx')\n",
    "cuentas_nacionales.to_latex('cuentas.tex')"
   ]
  },
  {
   "cell_type": "markdown",
   "metadata": {},
   "source": [
    "También podemos exportarlos a Stata (`to_stata`), aunque primero es necesario hacer un par de ajustes (indexar los datos por fechas en vez de períodos y quitar espacios y usar solo caracteres ASCII en los nombres de las columnas)"
   ]
  },
  {
   "cell_type": "code",
   "execution_count": 21,
   "metadata": {},
   "outputs": [],
   "source": [
    "cuentas_nacionales.index = cuentas_nacionales.index.to_timestamp()\n",
    "cuentas_nacionales.to_stata('cuentas.dta')"
   ]
  },
  {
   "cell_type": "markdown",
   "metadata": {},
   "source": [
    "## Advertencia\n",
    "\n",
    "Este paquete ha sido desarrollado por Randall Romero Aguilar, y se ha compartido para facilitar la obtención de datos del BCCR a quien así lo necesite.\n",
    "**NO** es un paquete oficial del Banco Central de Costa Rica, ni cuenta con aprobación o patrocinio del BCCR.\n",
    "\n",
    "**El paquete se ofrece gratuitamente pero SIN NINGUNA GARANTIA acerca de su correcto funcionamiento.**Aunque he puesto el mayor esfuerzo en que este paquete funcione correctamente, algunos errores pueden persistir.  Si encuentra alguno, o bien si tiene sugerencias acerca de futuras mejoras, por favor envíeme un correo a randall.romero@outlook.com.\n",
    "\n",
    "&#169; Randall Romero Aguilar, 2015-2021"
   ]
  }
 ],
 "metadata": {
  "kernel_info": {
   "name": "python3"
  },
  "kernelspec": {
   "display_name": "Python 3",
   "language": "python",
   "name": "python3"
  },
  "language_info": {
   "codemirror_mode": {
    "name": "ipython",
    "version": 3
   },
   "file_extension": ".py",
   "mimetype": "text/x-python",
   "name": "python",
   "nbconvert_exporter": "python",
   "pygments_lexer": "ipython3",
   "version": "3.8.5"
  },
  "nteract": {
   "version": "0.15.0"
  }
 },
 "nbformat": 4,
 "nbformat_minor": 4
}
