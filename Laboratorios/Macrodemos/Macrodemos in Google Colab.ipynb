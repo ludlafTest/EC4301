{
  "cells": [
    {
      "cell_type": "markdown",
      "source": [
        "<center>\n",
        "<img src=\"figures/Macrodemos.PNG\" width=\"260\" height=\"60\">\n",
        "<br>    \n",
        "<div style=\"font-size:250%;color:white; background-color: #0064b0;\">Macrodemos</div>\n",
        "<div style=\"font-size:175%;color:white; background-color: #0064b0;\">A Python module to teach macroeconomics and macroeconometrics</div>    \n",
        "\n",
        "</center>\n",
        "<br><br>\n",
        "<p style=\"font-size:120%;\">The purpose of this package is to provide tools to teach concepts of macroeconomics and macroeconometrics.</p>\n",
        "\n",
        "<b>Profesor:  Randall Romero Aguilar, PhD</b>\n",
        "    \n",
        "<i>Creado:     2020-Sep-01 \n",
        "    <br>\n",
        "    Actualizado: 2021-Sep-05</i>\n",
        "<hr>\n"
      ],
      "metadata": {}
    },
    {
      "cell_type": "markdown",
      "source": [
        "## Before you start\n",
        "\n",
        "If you are running this Jupyter notebook in Google Colab, or if you are running the notebook in your local computer but have not install `macrodemos`, then you need to run this cell:"
      ],
      "metadata": {}
    },
    {
      "cell_type": "code",
      "source": [
        "!pip install macrodemos"
      ],
      "outputs": [
        {
          "output_type": "stream",
          "name": "stdout",
          "text": [
            "Collecting macrodemos==2020.9.7\n",
            "  Downloading macrodemos-2020.9.7-py3-none-any.whl (26 kB)\n",
            "Requirement already satisfied: pandas in c:\\users\\randa\\anaconda3\\lib\\site-packages (from macrodemos==2020.9.7) (1.1.0)\n",
            "Requirement already satisfied: jupyter-dash in c:\\users\\randa\\anaconda3\\lib\\site-packages (from macrodemos==2020.9.7) (0.3.1)\n",
            "Requirement already satisfied: dash in c:\\users\\randa\\anaconda3\\lib\\site-packages (from macrodemos==2020.9.7) (1.4.1)\n",
            "Requirement already satisfied: plotly in c:\\users\\randa\\anaconda3\\lib\\site-packages (from macrodemos==2020.9.7) (4.9.0)\n",
            "Requirement already satisfied: statsmodels in c:\\users\\randa\\anaconda3\\lib\\site-packages (from macrodemos==2020.9.7) (0.11.1)\n",
            "Requirement already satisfied: numpy in c:\\users\\randa\\anaconda3\\lib\\site-packages (from macrodemos==2020.9.7) (1.19.1)\n",
            "Requirement already satisfied: pytz>=2017.2 in c:\\users\\randa\\anaconda3\\lib\\site-packages (from pandas->macrodemos==2020.9.7) (2020.1)\n",
            "Requirement already satisfied: python-dateutil>=2.7.3 in c:\\users\\randa\\anaconda3\\lib\\site-packages (from pandas->macrodemos==2020.9.7) (2.8.1)\n",
            "Requirement already satisfied: ipykernel in c:\\users\\randa\\anaconda3\\lib\\site-packages (from jupyter-dash->macrodemos==2020.9.7) (5.3.4)\n",
            "Requirement already satisfied: retrying in c:\\users\\randa\\anaconda3\\lib\\site-packages (from jupyter-dash->macrodemos==2020.9.7) (1.3.3)\n",
            "Requirement already satisfied: ansi2html in c:\\users\\randa\\anaconda3\\lib\\site-packages (from jupyter-dash->macrodemos==2020.9.7) (1.5.2)\n",
            "Requirement already satisfied: ipython in c:\\users\\randa\\anaconda3\\lib\\site-packages (from jupyter-dash->macrodemos==2020.9.7) (7.16.1)\n",
            "Requirement already satisfied: requests in c:\\users\\randa\\anaconda3\\lib\\site-packages (from jupyter-dash->macrodemos==2020.9.7) (2.24.0)\n",
            "Requirement already satisfied: flask in c:\\users\\randa\\anaconda3\\lib\\site-packages (from jupyter-dash->macrodemos==2020.9.7) (1.1.2)\n",
            "Requirement already satisfied: dash-html-components==1.0.1 in c:\\users\\randa\\anaconda3\\lib\\site-packages (from dash->macrodemos==2020.9.7) (1.0.1)\n",
            "Requirement already satisfied: dash-table==4.4.1 in c:\\users\\randa\\anaconda3\\lib\\site-packages (from dash->macrodemos==2020.9.7) (4.4.1)\n",
            "Requirement already satisfied: dash-core-components==1.3.1 in c:\\users\\randa\\anaconda3\\lib\\site-packages (from dash->macrodemos==2020.9.7) (1.3.1)\n",
            "Requirement already satisfied: future in c:\\users\\randa\\anaconda3\\lib\\site-packages (from dash->macrodemos==2020.9.7) (0.18.2)\n",
            "Requirement already satisfied: flask-compress in c:\\users\\randa\\anaconda3\\lib\\site-packages (from dash->macrodemos==2020.9.7) (1.5.0)\n",
            "Requirement already satisfied: dash-renderer==1.1.2 in c:\\users\\randa\\anaconda3\\lib\\site-packages (from dash->macrodemos==2020.9.7) (1.1.2)\n",
            "Requirement already satisfied: six in c:\\users\\randa\\anaconda3\\lib\\site-packages (from plotly->macrodemos==2020.9.7) (1.15.0)\n",
            "Requirement already satisfied: scipy>=1.0 in c:\\users\\randa\\anaconda3\\lib\\site-packages (from statsmodels->macrodemos==2020.9.7) (1.5.0)\n",
            "Requirement already satisfied: patsy>=0.5 in c:\\users\\randa\\anaconda3\\lib\\site-packages (from statsmodels->macrodemos==2020.9.7) (0.5.1)\n",
            "Requirement already satisfied: traitlets>=4.1.0 in c:\\users\\randa\\anaconda3\\lib\\site-packages (from ipykernel->jupyter-dash->macrodemos==2020.9.7) (4.3.3)\n",
            "Requirement already satisfied: jupyter-client in c:\\users\\randa\\anaconda3\\lib\\site-packages (from ipykernel->jupyter-dash->macrodemos==2020.9.7) (6.1.6)\n",
            "Requirement already satisfied: tornado>=4.2 in c:\\users\\randa\\anaconda3\\lib\\site-packages (from ipykernel->jupyter-dash->macrodemos==2020.9.7) (6.0.4)\n",
            "Requirement already satisfied: setuptools>=18.5 in c:\\users\\randa\\anaconda3\\lib\\site-packages (from ipython->jupyter-dash->macrodemos==2020.9.7) (49.2.0.post20200714)\n",
            "Requirement already satisfied: pygments in c:\\users\\randa\\anaconda3\\lib\\site-packages (from ipython->jupyter-dash->macrodemos==2020.9.7) (2.6.1)\n",
            "Requirement already satisfied: backcall in c:\\users\\randa\\anaconda3\\lib\\site-packages (from ipython->jupyter-dash->macrodemos==2020.9.7) (0.2.0)\n",
            "Requirement already satisfied: jedi>=0.10 in c:\\users\\randa\\anaconda3\\lib\\site-packages (from ipython->jupyter-dash->macrodemos==2020.9.7) (0.17.1)\n",
            "Requirement already satisfied: decorator in c:\\users\\randa\\anaconda3\\lib\\site-packages (from ipython->jupyter-dash->macrodemos==2020.9.7) (4.4.2)\n",
            "Requirement already satisfied: prompt-toolkit!=3.0.0,!=3.0.1,<3.1.0,>=2.0.0 in c:\\users\\randa\\anaconda3\\lib\\site-packages (from ipython->jupyter-dash->macrodemos==2020.9.7) (3.0.5)\n",
            "Requirement already satisfied: colorama; sys_platform == \"win32\" in c:\\users\\randa\\anaconda3\\lib\\site-packages (from ipython->jupyter-dash->macrodemos==2020.9.7) (0.4.3)\n",
            "Requirement already satisfied: pickleshare in c:\\users\\randa\\anaconda3\\lib\\site-packages (from ipython->jupyter-dash->macrodemos==2020.9.7) (0.7.5)\n",
            "Requirement already satisfied: certifi>=2017.4.17 in c:\\users\\randa\\anaconda3\\lib\\site-packages (from requests->jupyter-dash->macrodemos==2020.9.7) (2020.6.20)\n",
            "Requirement already satisfied: chardet<4,>=3.0.2 in c:\\users\\randa\\anaconda3\\lib\\site-packages (from requests->jupyter-dash->macrodemos==2020.9.7) (3.0.4)\n",
            "Requirement already satisfied: urllib3!=1.25.0,!=1.25.1,<1.26,>=1.21.1 in c:\\users\\randa\\anaconda3\\lib\\site-packages (from requests->jupyter-dash->macrodemos==2020.9.7) (1.25.10)\n",
            "Requirement already satisfied: idna<3,>=2.5 in c:\\users\\randa\\anaconda3\\lib\\site-packages (from requests->jupyter-dash->macrodemos==2020.9.7) (2.10)\n",
            "Requirement already satisfied: click>=5.1 in c:\\users\\randa\\anaconda3\\lib\\site-packages (from flask->jupyter-dash->macrodemos==2020.9.7) (7.1.2)\n",
            "Requirement already satisfied: itsdangerous>=0.24 in c:\\users\\randa\\anaconda3\\lib\\site-packages (from flask->jupyter-dash->macrodemos==2020.9.7) (1.1.0)\n",
            "Requirement already satisfied: Werkzeug>=0.15 in c:\\users\\randa\\anaconda3\\lib\\site-packages (from flask->jupyter-dash->macrodemos==2020.9.7) (1.0.1)\n",
            "Requirement already satisfied: Jinja2>=2.10.1 in c:\\users\\randa\\anaconda3\\lib\\site-packages (from flask->jupyter-dash->macrodemos==2020.9.7) (2.11.2)\n",
            "Requirement already satisfied: brotli in c:\\users\\randa\\anaconda3\\lib\\site-packages (from flask-compress->dash->macrodemos==2020.9.7) (1.0.9)\n",
            "Requirement already satisfied: ipython-genutils in c:\\users\\randa\\anaconda3\\lib\\site-packages (from traitlets>=4.1.0->ipykernel->jupyter-dash->macrodemos==2020.9.7) (0.2.0)\n",
            "Requirement already satisfied: pyzmq>=13 in c:\\users\\randa\\anaconda3\\lib\\site-packages (from jupyter-client->ipykernel->jupyter-dash->macrodemos==2020.9.7) (19.0.1)\n",
            "Requirement already satisfied: jupyter-core>=4.6.0 in c:\\users\\randa\\anaconda3\\lib\\site-packages (from jupyter-client->ipykernel->jupyter-dash->macrodemos==2020.9.7) (4.6.3)\n",
            "Requirement already satisfied: parso<0.8.0,>=0.7.0 in c:\\users\\randa\\anaconda3\\lib\\site-packages (from jedi>=0.10->ipython->jupyter-dash->macrodemos==2020.9.7) (0.7.0)\n",
            "Requirement already satisfied: wcwidth in c:\\users\\randa\\anaconda3\\lib\\site-packages (from prompt-toolkit!=3.0.0,!=3.0.1,<3.1.0,>=2.0.0->ipython->jupyter-dash->macrodemos==2020.9.7) (0.2.5)\n",
            "Requirement already satisfied: MarkupSafe>=0.23 in c:\\users\\randa\\anaconda3\\lib\\site-packages (from Jinja2>=2.10.1->flask->jupyter-dash->macrodemos==2020.9.7) (1.1.1)\n",
            "Requirement already satisfied: pywin32>=1.0; sys_platform == \"win32\" in c:\\users\\randa\\anaconda3\\lib\\site-packages (from jupyter-core>=4.6.0->jupyter-client->ipykernel->jupyter-dash->macrodemos==2020.9.7) (227)\n",
            "Installing collected packages: macrodemos\n",
            "  Attempting uninstall: macrodemos\n",
            "    Found existing installation: macrodemos 2020.10.31\n",
            "    Uninstalling macrodemos-2020.10.31:\n",
            "      Successfully uninstalled macrodemos-2020.10.31\n",
            "Successfully installed macrodemos-2020.9.7\n"
          ]
        }
      ],
      "execution_count": 3,
      "metadata": {}
    },
    {
      "cell_type": "markdown",
      "source": [
        "Then you load the `macrodemos` package the usual way:"
      ],
      "metadata": {}
    },
    {
      "cell_type": "code",
      "source": [
        "import macrodemos"
      ],
      "outputs": [
        {
          "output_type": "stream",
          "name": "stdout",
          "text": [
            "\n",
            "macrodemos : A Python module to teach macroeconomics and macroeconometrics\n",
            "\n",
            "This package contains Dash apps to teach and learn about macroeconomics and macroeconometrics.\n",
            "\n",
            "So far, the available demos are:\n",
            "\n",
            "    ARMA_demo():  to study AutoRegressive Moving Average processes.\n",
            "    Markov_demo(): to study Markov chains \n",
            "    Solow_demo():  to study the Solow growth model.\n",
            "    \n",
            "Randall Romero Aguilar, 2016-2020   \n",
            "\n"
          ]
        }
      ],
      "execution_count": 4,
      "metadata": {}
    },
    {
      "cell_type": "markdown",
      "source": [
        "# ARMA_demo()"
      ],
      "metadata": {}
    },
    {
      "cell_type": "code",
      "source": [
        "macrodemos.ARMA_demo()"
      ],
      "outputs": [
        {
          "output_type": "stream",
          "name": "stdout",
          "text": [
            "Dash app running on http://127.0.0.1:8050/\n"
          ]
        }
      ],
      "execution_count": 5,
      "metadata": {}
    },
    {
      "cell_type": "markdown",
      "source": [
        "<img src=\"figures/ARMAdemo.png\" width=\"100%\">\n",
        "\n",
        "When you run the previous cell, you will get a hyperlink to a Dash application, that looks similar to the one picture above. Just click on the link.\n",
        "\n",
        "In this app, you will find 7 figures about ARMA  processes:\n",
        "\n",
        "* A simulated sample\n",
        "* Autocorrelogram\n",
        "* Partial autocorrelogram\n",
        "* Impulse response function\n",
        "* Spectral density\n",
        "* (Inverse) AR polynomial roots\n",
        "* (Inverse) MA polynomial roots\n",
        "\n",
        "\n",
        "All these figures correspond to the population properties of the specified ARMA process. You have the option of showing estimated counterparts of all of them (estimated from simulated data shown in first plot).\n",
        "\n",
        "At first, this app shows a white noise process. To simulate the ARMA\n",
        "    \n",
        "\\begin{equation*} y_t = c + \\phi_1y_{t-1} + \\dots + \\phi_py_{t-p} + \\epsilon_t + \\theta_1\\epsilon_{t-1} + \\dots + \\theta_q\\epsilon_{t-q}, \\qquad \\epsilon\\sim N(0,\\sigma^2)\n",
        "\\end{equation*}\n",
        "    \n",
        "just enter the parameters\n",
        "    \n",
        "* $c$, in the `c` field,\n",
        "* $\\phi_1,  \\dots, \\phi_p$ (separated by commas) in the `AR` field,\n",
        "* $\\theta_1,  \\dots, \\theta_q$ (separated by commas) in the `MA` field,\n",
        "* $\\sigma^2$ in the `V[e]` field.\n",
        "\n",
        "\n",
        "For AR process $y_t = c + \\phi_1y_{t-1} + \\dots + \\phi_py_{t-p} +\\epsilon_t$, just leave the `MA` blank. Similarly, leave the `AR` field blanck to represent a MA process $y_t = c + \\epsilon_t + \\theta_1\\epsilon_{t-1} + \\dots + \\theta_q\\epsilon_{t-q}$."
      ],
      "metadata": {}
    },
    {
      "cell_type": "markdown",
      "source": [
        "# Markov_demo()"
      ],
      "metadata": {}
    },
    {
      "cell_type": "code",
      "source": [
        "macrodemos.Markov_demo('state 0', 'state 1')  #adjust names and number of states"
      ],
      "outputs": [],
      "execution_count": null,
      "metadata": {}
    },
    {
      "cell_type": "markdown",
      "source": [
        "<img src=\"figures/MarkovDemo.png\" width=\"100%\">\n",
        "\n",
        "This demo simulates a Markov chain. You will find 2 figures about a Markov chain model:\n",
        "\n",
        "* Simulated path, and\n",
        "* Unconditional probability \n",
        "\n",
        "You set the states (2 or more, although it is best to keep it below 4 or 5 states) when calling the demo. Once the app is open, you can control the following parameters\n",
        "* the transition matrix (make sure each row adds up to 1)\n",
        "* the initial ($t=0$) probability distribution (make sure its elements add up to 1)."
      ],
      "metadata": {}
    },
    {
      "cell_type": "markdown",
      "source": [
        "# filters_demo()"
      ],
      "metadata": {}
    },
    {
      "cell_type": "code",
      "source": [
        "macrodemos.filters_demo()"
      ],
      "outputs": [],
      "execution_count": null,
      "metadata": {}
    },
    {
      "cell_type": "markdown",
      "source": [
        "<img src=\"figures/filtersdemo.png\" width=\"100%\">\n",
        "\n",
        "The purpose of this demo is to help you understand several popular time series filtering methods:  \n",
        "                                 \n",
        "* Hodrick and Prescott [(1997)](http://www.jstor.org/stable/2953682) *Postwar U.S. Business Cycles: An Empirical Investigation*\n",
        "* Baxter and King [(1995)](http://www.jstor.org/stable/2646708) *Measuring Business Cycles: Approximate Band-Pass Filters for Economic Time Series* \n",
        "* Christiano and Fitzgerald [(2003)](https://doi.org/10.1111/1468-2354.t01-1-00076) *The Band Pass Filter*\n",
        "* Hamilton [(2017)](https://doi.org/10.1162/rest_a_00706) *Why You Should Never Use the Hodrick-Prescott Filter*\n",
        "                                 \n",
        "#### About the filter parameters\n",
        "                                 \n",
        "For each of this filters, you can choose the filtering parameters and see the filtered trend and cycle, as well as the correlation of the cycles of the series with the GDP cycle.\n",
        "                                 \n",
        "* Hodrick and Prescott:  **lambda** controls the trend smoothness\n",
        "* Baxter and King: **K** number of quarters to keep (each side) for computation,  **p_L** and **p_H** number of quarters that define a business cycle \n",
        "* Christiano and Fitzgerald: **p_L** and **p_H** number of quarters that define a business cycle\n",
        "* Hamilton: **h** forecast horizon, **p** number of lags in forecast regression.\n",
        "                                 \n",
        "#### About the data\n",
        "\n",
        "All data is quarterly, and is downloaded from the [IFS database](https://data.imf.org/ifs) (IMF); for this reason, you need an Internet connection to run this demo. Furthermore, sometimes the IFS API will not return the requested data; in such case try again a few seconds later.\n",
        "                                 \n",
        "For each time series, this app downloads the *nominal* values in local currency and computes a *real* time series by dividing by the GDP deflator. The several filters are then applied to the *logarithm* of the resulting time series. \n",
        "                                  \n",
        "Countries shown in the dropdown menu are those for which there is data available in IFS."
      ],
      "metadata": {}
    },
    {
      "cell_type": "markdown",
      "source": [
        "# Solow_demo()"
      ],
      "metadata": {}
    },
    {
      "cell_type": "code",
      "source": [
        "macrodemos.Solow_demo()"
      ],
      "outputs": [],
      "execution_count": null,
      "metadata": {}
    },
    {
      "cell_type": "markdown",
      "source": [
        "<img src=\"figures/SolowDemo.png\" width=\"100%\">\n",
        "\n",
        "This demo was inspired by a similar demo (implemented with Excel) from the book **Introducción a la Macroeconomía Computacional** by Anelí Bongers Chicano, Trinidad Gómez Núñez, José Luis Torres Chacón (ISBN-13: 978-8417332020).\n",
        "\n",
        "In this app you can do comparative-static analysis. You will find 6 figures about the Solow-Swan model:\n",
        "\n",
        "* Capital stock, per capita\n",
        "* Output per capita, \n",
        "* Savings per capita,\n",
        "* Consumption per capita,\n",
        "* Change in capital stock, and\n",
        "* Output growth rate\n",
        "\n",
        "You can control the following parameters\n",
        "* $\\alpha =$ marginal product of capital\n",
        "* $\\delta =$ depreciation rate\n",
        "* $n =$ population growth rate\n",
        "* $A =$ total factor productivity\n",
        "* $s =$ savings rate\n",
        "\n",
        "For each of these parameters, the values in the first column correspond to a *baseline* scenario, and the second column allow for an alternative scenario.\n"
      ],
      "metadata": {}
    },
    {
      "cell_type": "markdown",
      "source": [
        "# Future apps"
      ],
      "metadata": {}
    },
    {
      "cell_type": "markdown",
      "source": [
        "In a near future, I expect to add a few more demos:\n",
        "\n",
        "* `Bellman_demo()`: to illustrate the solution of a Bellman equation by value function iteration\n",
        "* `Filters_fit()`: to fit the Hodrick-Prescott, Baxter-King, Christiano-Fitzgerald, Hamilton time series filters to user-supplied data.\n",
        "* `ARIMA_fit()`: to compare two fitted ARIMA models, side by side, using user-supplied data."
      ],
      "metadata": {}
    },
    {
      "cell_type": "markdown",
      "source": [
        "## Tips:\n",
        "\n",
        "1. All plots in the `macrodemos` package were made with https://plotly.com/python/. If you point your mouse near the upper-right corner of any plot, you will see a taskbar similar to\n",
        "\n",
        "<img src=\"figures/plotly-options.png\" width=\"40%\">\n",
        "\n",
        "You can resize the plots and even download them if you need them.\n",
        "\n",
        "2. If you run `macrodemos` locally, passing the option `colab=False` to any of the demos will open the demo window for you (no need to enter the  http://127.0.0.1:8050/ URL manually)"
      ],
      "metadata": {}
    },
    {
      "cell_type": "markdown",
      "source": [
        "## Disclaimer\n",
        "\n",
        "This program was developed for teaching purposes only. If you have any comments or suggestions for future demos, please send me an email at randall.romero@ucr.ac.cr ."
      ],
      "metadata": {}
    }
  ],
  "metadata": {
    "kernel_info": {
      "name": "python3"
    },
    "kernelspec": {
      "display_name": "Python 3",
      "language": "python",
      "name": "python3"
    },
    "language_info": {
      "name": "python",
      "version": "3.8.5",
      "mimetype": "text/x-python",
      "codemirror_mode": {
        "name": "ipython",
        "version": 3
      },
      "pygments_lexer": "ipython3",
      "nbconvert_exporter": "python",
      "file_extension": ".py"
    },
    "nteract": {
      "version": "0.28.0"
    },
    "toc-autonumbering": false,
    "toc-showtags": false
  },
  "nbformat": 4,
  "nbformat_minor": 4
}